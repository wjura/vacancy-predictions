# Import needed libraries
import pandas as pd
import numpy as np





# Read in the data
df = pd.read_excel("../data/unprocessed/concatenated_vacancies.xlsx")


df.head()


df.info()





df['DATE'] = pd.to_datetime(df['DATE'], format='%d-%m-%Y')


df.info()


df.describe()



