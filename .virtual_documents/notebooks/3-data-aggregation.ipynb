import pandas as pd
from prophet import Prophet
import matplotlib.pyplot as plt
import seaborn as sns


# Load the dataset
df = pd.read_csv('../data/preprocessed/df_preprocessed_mapped.csv')


df.drop(columns=['building', 'room', 'room_type', 'gender', 'status', 'last_tenancy_end', 'last_checkout'], axis=1, inplace=True)


# Convert 'date' column to datetime format
df['date'] = pd.to_datetime(df['date'])


# Group by date 
df_grouped = df.groupby('date').size().reset_index(name='vacancies')

df_grouped.info()


# One-hot encode the categorical columns
df_encoded = pd.get_dummies(df, columns=['area', 'room_type_combined'])
df_encoded.columns
# Group by date and aggregate the one-hot encoded columns (sum for each day)
df_encoded_grouped = df_encoded.groupby('date').sum().reset_index()
df_encoded_grouped.drop(columns=['date'], axis=1, inplace=True)
df_encoded_grouped.info()


# Merge the one-hot encoded columns with the aggregated dataframe
df= pd.concat([df_grouped, df_encoded_grouped], axis=1)


# ACADIA and UAPTS are within the same area and contract type, but they are encoded separately due to historical separation. Let's add them up togetherabs

df['area_AP_UA'] = df['area_ACADIA'] + df['area_UAPTS']
df


df.to_csv('../data/preprocessed/df_type_area.csv', index = False)


# Sum the one-hot encoded area columns
encoded_area = df.drop(columns = ['vacancies', 
                        'date', 
                        'area_ACADIA',
                        'area_UAPTS',
                        'room_type_combined_1br',
                        'room_type_combined_1br-ap', 
                        'room_type_combined_2br-ap', 
                        'room_type_combined_2br-shared',
                        'room_type_combined_3br-ap',
                        'room_type_combined_4br-ap',
                        'room_type_combined_shared',
                        'room_type_combined_single',
                        'room_type_combined_studio'], axis = 1)  
sum_encoded = encoded_area.sum(axis=1)  # Sum row-wise (axis=1)

# Compare if the sum equals the vacancy column
df['sum_check'] = sum_encoded == df['vacancies']


# Check if any False in sum_check
false_count = (df['sum_check'] == False).sum()

# Print the number of False values
print(f"Number of False values in 'sum_check' column: {false_count}")


df_area = df.drop(columns = 
                  ['area_ACADIA',
                   'area_UAPTS',
                   'room_type_combined_1br', 
                   'room_type_combined_1br-ap',
                   'room_type_combined_2br-ap',
                   'room_type_combined_2br-shared',
                   'room_type_combined_3br-ap',
                   'room_type_combined_4br-ap',
                   'room_type_combined_shared',
                   'room_type_combined_single',
                   'room_type_combined_studio', 
                   'sum_check'], axis = 1)


df_area


df_area.to_csv('../data/preprocessed/df_agg_area.csv', index = False)
