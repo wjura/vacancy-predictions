{
 "cells": [
  {
   "cell_type": "markdown",
   "id": "abfd3b6b-5b2e-4085-a97a-1499163aa16a",
   "metadata": {},
   "source": [
    "## Model for Student Housing - Green College"
   ]
  },
  {
   "cell_type": "code",
   "execution_count": 1,
   "id": "e862dab5-37bd-4c25-a3d5-5f6a816e59ad",
   "metadata": {},
   "outputs": [],
   "source": [
    "import pandas as pd\n",
    "import numpy as np\n",
    "from prophet import Prophet\n",
    "import matplotlib.pyplot as plt\n",
    "import seaborn as sns\n",
    "from prophet.diagnostics import cross_validation\n",
    "from prophet.diagnostics import performance_metrics\n",
    "from prophet.plot import plot_cross_validation_metric\n",
    "from sklearn.metrics import mean_absolute_error, mean_squared_error"
   ]
  },
  {
   "cell_type": "code",
   "execution_count": 2,
   "id": "2139321a-ee0b-4fb7-a6b1-d952f91af8f5",
   "metadata": {},
   "outputs": [],
   "source": [
    "# Load the dataset\n",
    "df = pd.read_csv('../data/preprocessed/df_agg_area.csv')"
   ]
  },
  {
   "cell_type": "code",
   "execution_count": 3,
   "id": "dbc041ec-eb9b-47c5-a691-75d873ed91a6",
   "metadata": {},
   "outputs": [
    {
     "name": "stdout",
     "output_type": "stream",
     "text": [
      "<class 'pandas.core.frame.DataFrame'>\n",
      "RangeIndex: 1097 entries, 0 to 1096\n",
      "Data columns (total 13 columns):\n",
      " #   Column       Non-Null Count  Dtype \n",
      "---  ------       --------------  ----- \n",
      " 0   date         1097 non-null   object\n",
      " 1   vacancies    1097 non-null   int64 \n",
      " 2   area_BROCK   1097 non-null   int64 \n",
      " 3   area_EXCH    1097 non-null   int64 \n",
      " 4   area_FRASER  1097 non-null   int64 \n",
      " 5   area_GREEN   1097 non-null   int64 \n",
      " 6   area_IONA    1097 non-null   int64 \n",
      " 7   area_KWTQ    1097 non-null   int64 \n",
      " 8   area_MARINE  1097 non-null   int64 \n",
      " 9   area_POND    1097 non-null   int64 \n",
      " 10  area_STJOHN  1097 non-null   int64 \n",
      " 11  area_TBIRD   1097 non-null   int64 \n",
      " 12  area_AP_UA   1097 non-null   int64 \n",
      "dtypes: int64(12), object(1)\n",
      "memory usage: 111.5+ KB\n"
     ]
    }
   ],
   "source": [
    "df.info()"
   ]
  },
  {
   "cell_type": "code",
   "execution_count": 4,
   "id": "ce90e33f-9c55-4b8a-9a85-23a08501d041",
   "metadata": {},
   "outputs": [],
   "source": [
    "# Convert 'date' column to datetime format\n",
    "df['date'] = pd.to_datetime(df['date'])"
   ]
  },
  {
   "cell_type": "code",
   "execution_count": 5,
   "id": "cfbd9858-2b94-421f-951c-927eab534052",
   "metadata": {},
   "outputs": [
    {
     "data": {
      "text/html": [
       "<div>\n",
       "<style scoped>\n",
       "    .dataframe tbody tr th:only-of-type {\n",
       "        vertical-align: middle;\n",
       "    }\n",
       "\n",
       "    .dataframe tbody tr th {\n",
       "        vertical-align: top;\n",
       "    }\n",
       "\n",
       "    .dataframe thead th {\n",
       "        text-align: right;\n",
       "    }\n",
       "</style>\n",
       "<table border=\"1\" class=\"dataframe\">\n",
       "  <thead>\n",
       "    <tr style=\"text-align: right;\">\n",
       "      <th></th>\n",
       "      <th>ds</th>\n",
       "      <th>vacancies</th>\n",
       "      <th>area_BROCK</th>\n",
       "      <th>area_EXCH</th>\n",
       "      <th>area_FRASER</th>\n",
       "      <th>area_GREEN</th>\n",
       "      <th>area_IONA</th>\n",
       "      <th>area_KWTQ</th>\n",
       "      <th>area_MARINE</th>\n",
       "      <th>area_POND</th>\n",
       "      <th>area_STJOHN</th>\n",
       "      <th>area_TBIRD</th>\n",
       "      <th>area_AP_UA</th>\n",
       "    </tr>\n",
       "  </thead>\n",
       "  <tbody>\n",
       "    <tr>\n",
       "      <th>0</th>\n",
       "      <td>2021-11-01</td>\n",
       "      <td>74</td>\n",
       "      <td>1</td>\n",
       "      <td>5</td>\n",
       "      <td>2</td>\n",
       "      <td>7</td>\n",
       "      <td>0</td>\n",
       "      <td>0</td>\n",
       "      <td>23</td>\n",
       "      <td>6</td>\n",
       "      <td>2</td>\n",
       "      <td>11</td>\n",
       "      <td>17</td>\n",
       "    </tr>\n",
       "    <tr>\n",
       "      <th>1</th>\n",
       "      <td>2021-11-02</td>\n",
       "      <td>91</td>\n",
       "      <td>2</td>\n",
       "      <td>5</td>\n",
       "      <td>2</td>\n",
       "      <td>7</td>\n",
       "      <td>0</td>\n",
       "      <td>0</td>\n",
       "      <td>25</td>\n",
       "      <td>7</td>\n",
       "      <td>5</td>\n",
       "      <td>12</td>\n",
       "      <td>26</td>\n",
       "    </tr>\n",
       "    <tr>\n",
       "      <th>2</th>\n",
       "      <td>2021-11-03</td>\n",
       "      <td>93</td>\n",
       "      <td>2</td>\n",
       "      <td>5</td>\n",
       "      <td>2</td>\n",
       "      <td>7</td>\n",
       "      <td>0</td>\n",
       "      <td>0</td>\n",
       "      <td>25</td>\n",
       "      <td>7</td>\n",
       "      <td>4</td>\n",
       "      <td>13</td>\n",
       "      <td>28</td>\n",
       "    </tr>\n",
       "    <tr>\n",
       "      <th>3</th>\n",
       "      <td>2021-11-04</td>\n",
       "      <td>95</td>\n",
       "      <td>2</td>\n",
       "      <td>5</td>\n",
       "      <td>2</td>\n",
       "      <td>7</td>\n",
       "      <td>0</td>\n",
       "      <td>0</td>\n",
       "      <td>26</td>\n",
       "      <td>7</td>\n",
       "      <td>5</td>\n",
       "      <td>13</td>\n",
       "      <td>28</td>\n",
       "    </tr>\n",
       "    <tr>\n",
       "      <th>4</th>\n",
       "      <td>2021-11-05</td>\n",
       "      <td>93</td>\n",
       "      <td>2</td>\n",
       "      <td>5</td>\n",
       "      <td>2</td>\n",
       "      <td>7</td>\n",
       "      <td>0</td>\n",
       "      <td>0</td>\n",
       "      <td>26</td>\n",
       "      <td>7</td>\n",
       "      <td>5</td>\n",
       "      <td>12</td>\n",
       "      <td>27</td>\n",
       "    </tr>\n",
       "  </tbody>\n",
       "</table>\n",
       "</div>"
      ],
      "text/plain": [
       "          ds  vacancies  area_BROCK  area_EXCH  area_FRASER  area_GREEN  \\\n",
       "0 2021-11-01         74           1          5            2           7   \n",
       "1 2021-11-02         91           2          5            2           7   \n",
       "2 2021-11-03         93           2          5            2           7   \n",
       "3 2021-11-04         95           2          5            2           7   \n",
       "4 2021-11-05         93           2          5            2           7   \n",
       "\n",
       "   area_IONA  area_KWTQ  area_MARINE  area_POND  area_STJOHN  area_TBIRD  \\\n",
       "0          0          0           23          6            2          11   \n",
       "1          0          0           25          7            5          12   \n",
       "2          0          0           25          7            4          13   \n",
       "3          0          0           26          7            5          13   \n",
       "4          0          0           26          7            5          12   \n",
       "\n",
       "   area_AP_UA  \n",
       "0          17  \n",
       "1          26  \n",
       "2          28  \n",
       "3          28  \n",
       "4          27  "
      ]
     },
     "execution_count": 5,
     "metadata": {},
     "output_type": "execute_result"
    }
   ],
   "source": [
    "# Rename column 'date' to Prophet's format\n",
    "df.rename(columns={'date': 'ds'}, inplace=True)\n",
    "df.head()"
   ]
  },
  {
   "cell_type": "code",
   "execution_count": 6,
   "id": "eb9b65fd-e9ff-4cc8-85e5-c8bead259fa4",
   "metadata": {},
   "outputs": [
    {
     "data": {
      "text/html": [
       "<div>\n",
       "<style scoped>\n",
       "    .dataframe tbody tr th:only-of-type {\n",
       "        vertical-align: middle;\n",
       "    }\n",
       "\n",
       "    .dataframe tbody tr th {\n",
       "        vertical-align: top;\n",
       "    }\n",
       "\n",
       "    .dataframe thead th {\n",
       "        text-align: right;\n",
       "    }\n",
       "</style>\n",
       "<table border=\"1\" class=\"dataframe\">\n",
       "  <thead>\n",
       "    <tr style=\"text-align: right;\">\n",
       "      <th></th>\n",
       "      <th>ds</th>\n",
       "      <th>area</th>\n",
       "      <th>y</th>\n",
       "    </tr>\n",
       "  </thead>\n",
       "  <tbody>\n",
       "    <tr>\n",
       "      <th>0</th>\n",
       "      <td>2021-11-01</td>\n",
       "      <td>vacancies</td>\n",
       "      <td>74</td>\n",
       "    </tr>\n",
       "    <tr>\n",
       "      <th>1</th>\n",
       "      <td>2021-11-02</td>\n",
       "      <td>vacancies</td>\n",
       "      <td>91</td>\n",
       "    </tr>\n",
       "    <tr>\n",
       "      <th>2</th>\n",
       "      <td>2021-11-03</td>\n",
       "      <td>vacancies</td>\n",
       "      <td>93</td>\n",
       "    </tr>\n",
       "    <tr>\n",
       "      <th>3</th>\n",
       "      <td>2021-11-04</td>\n",
       "      <td>vacancies</td>\n",
       "      <td>95</td>\n",
       "    </tr>\n",
       "    <tr>\n",
       "      <th>4</th>\n",
       "      <td>2021-11-05</td>\n",
       "      <td>vacancies</td>\n",
       "      <td>93</td>\n",
       "    </tr>\n",
       "  </tbody>\n",
       "</table>\n",
       "</div>"
      ],
      "text/plain": [
       "          ds       area   y\n",
       "0 2021-11-01  vacancies  74\n",
       "1 2021-11-02  vacancies  91\n",
       "2 2021-11-03  vacancies  93\n",
       "3 2021-11-04  vacancies  95\n",
       "4 2021-11-05  vacancies  93"
      ]
     },
     "execution_count": 6,
     "metadata": {},
     "output_type": "execute_result"
    }
   ],
   "source": [
    "# Melt the dataframe to convert from wide to long format\n",
    "df_long = df.melt(id_vars=['ds'], var_name='area', value_name='y')\n",
    "\n",
    "# Preview the melted data\n",
    "df_long.head()"
   ]
  },
  {
   "cell_type": "code",
   "execution_count": 7,
   "id": "03b6e123-113c-437a-a937-4efa65c66537",
   "metadata": {},
   "outputs": [
    {
     "name": "stdout",
     "output_type": "stream",
     "text": [
      "         Date    Month  Max Green Vacancies\n",
      "0  2021-11-01  2021-11                    7\n",
      "1  2021-12-02  2021-12                    7\n",
      "2  2022-01-01  2022-01                    6\n",
      "3  2022-02-01  2022-02                    6\n",
      "4  2022-03-02  2022-03                    8\n",
      "5  2022-04-22  2022-04                    9\n",
      "6  2022-05-02  2022-05                   11\n",
      "7  2022-06-02  2022-06                   11\n",
      "8  2022-07-02  2022-07                   12\n",
      "9  2022-08-25  2022-08                   38\n",
      "10 2022-09-12  2022-09                    3\n",
      "11 2022-10-01  2022-10                    2\n",
      "12 2022-11-01  2022-11                    2\n",
      "13 2022-12-05  2022-12                    4\n",
      "14 2023-01-02  2023-01                    7\n",
      "15 2023-02-07  2023-02                    8\n",
      "16 2023-03-02  2023-03                   10\n",
      "17 2023-04-02  2023-04                   11\n",
      "18 2023-05-10  2023-05                   13\n",
      "19 2023-06-01  2023-06                   14\n",
      "20 2023-07-02  2023-07                   15\n",
      "21 2023-08-25  2023-08                   49\n",
      "22 2023-09-01  2023-09                    2\n",
      "23 2023-10-01  2023-10                    2\n",
      "24 2023-11-01  2023-11                    2\n",
      "25 2023-12-02  2023-12                    3\n",
      "26 2024-01-01  2024-01                    3\n",
      "27 2024-02-01  2024-02                    2\n",
      "28 2024-03-01  2024-03                    2\n",
      "29 2024-04-01  2024-04                    2\n",
      "30 2024-05-02  2024-05                    3\n",
      "31 2024-06-01  2024-06                    3\n",
      "32 2024-07-02  2024-07                    6\n",
      "33 2024-08-25  2024-08                   35\n",
      "34 2024-09-03  2024-09                    1\n",
      "35 2024-10-01  2024-10                    1\n",
      "36 2024-11-01  2024-11                    1\n"
     ]
    }
   ],
   "source": [
    "# Display max vacancies per month \n",
    "\n",
    "# Define the area\n",
    "area ='area_GREEN'\n",
    "\n",
    "# Extract year and month to group by month\n",
    "df['year_month'] = df['ds'].dt.to_period('M')\n",
    "\n",
    "# Find the date with the maximum vacancies for each month\n",
    "idx = df.groupby('year_month')[area].idxmax()\n",
    "\n",
    "# Retrieve the rows with the maximum vacancies\n",
    "max_vacancy_per_month = df.loc[idx, ['ds', 'year_month', area]].reset_index(drop=True)\n",
    "\n",
    "# Rename columns for clarity\n",
    "max_vacancy_per_month.rename(columns={'ds': 'Date', 'year_month': 'Month', area: 'Max Green Vacancies'}, inplace=True)\n",
    "\n",
    "# Display the result\n",
    "print(max_vacancy_per_month)"
   ]
  },
  {
   "cell_type": "markdown",
   "id": "2f660bc2-25ef-47cf-8d12-d37dae0f2a0d",
   "metadata": {},
   "source": [
    "### 1. Basic prediction"
   ]
  },
  {
   "cell_type": "code",
   "execution_count": 8,
   "id": "abb6822d-1132-42a9-bfca-507d34420018",
   "metadata": {},
   "outputs": [],
   "source": [
    "# Define holidays - Move out day for Green College contract is always Aug 25 each year\n",
    "holidays = pd.DataFrame({\n",
    "  'holiday': 'move_out',\n",
    "  'ds': pd.to_datetime(['2022-08-25', '2023-08-25', '2024-08-25']),  # move-out dates\n",
    "    'lower_window': [-1, -1, -1],\n",
    "    'upper_window': [6, 6, 6]\n",
    "})"
   ]
  },
  {
   "cell_type": "code",
   "execution_count": null,
   "id": "f655330b-1274-4293-9653-ac4a67f99163",
   "metadata": {},
   "outputs": [
    {
     "name": "stderr",
     "output_type": "stream",
     "text": [
      "21:05:24 - cmdstanpy - INFO - Chain [1] start processing\n",
      "21:05:25 - cmdstanpy - INFO - Chain [1] done processing\n"
     ]
    }
   ],
   "source": [
    "# Define the area for model\n",
    "area = 'area_GREEN'\n",
    "\n",
    "# Rename columns for Prophet\n",
    "df_green = df[['ds', area]].rename(columns={area: 'y'})\n",
    "\n",
    "# Create a new column that marks the last day of the month - it will be an additional regressor for model\n",
    "df_green['end_of_month'] = df_green['ds'].dt.is_month_end.astype(int)\n",
    "\n",
    "# Initialize the Prophet model with specified hyperparameters\n",
    "# - 'holidays' provides holiday information to the model\n",
    "# - 'yearly_seasonality=30' increases flexibility for capturing yearly trends\n",
    "# - 'changepoint_prior_scale' controls sensitivity to changepoints\n",
    "# - 'seasonality_mode' defines how seasonal effects are modeled (here additive)\n",
    "model = Prophet(holidays=holidays, \n",
    "                yearly_seasonality=30,\n",
    "                changepoint_prior_scale=0.05,\n",
    "                seasonality_prior_scale=15,\n",
    "                seasonality_mode='additive')\n",
    "\n",
    "# Add 'end_of_month' as a regressor\n",
    "model.add_regressor('end_of_month')\n",
    "\n",
    "# Fit the model\n",
    "model.fit(df_green)\n",
    "\n",
    "# Predict on future (1 year in the future)\n",
    "future = model.make_future_dataframe(periods=365)\n",
    "\n",
    "# Add the 'end_of_month' column to the future dataframe\n",
    "future['end_of_month'] = future['ds'].dt.is_month_end.astype(int)\n",
    "\n",
    "# Generate predictions for the future\n",
    "forecast = model.predict(future)\n",
    "\n",
    "# Clip the predicted values to ensure no negative values\n",
    "forecast['yhat'] = forecast['yhat'].clip(lower=0)\n",
    "forecast['yhat_lower'] = forecast['yhat_lower'].clip(lower=0)\n",
    "forecast['yhat_upper'] = forecast['yhat_upper'].clip(lower=0)"
   ]
  },
  {
   "cell_type": "code",
   "execution_count": 10,
   "id": "e9dcf9cd-b6a7-4055-a82a-0749df4c7cd8",
   "metadata": {},
   "outputs": [
    {
     "data": {
      "image/png": "[encoded data removed]",
      "text/plain": [
       "<Figure size 1200x600 with 1 Axes>"
      ]
     },
     "metadata": {},
     "output_type": "display_data"
    }
   ],
   "source": [
    "# Plot the forecast with actual values\n",
    "plt.figure(figsize=(12, 6))\n",
    "plt.plot(df_green['ds'], \n",
    "         df_green['y'],\n",
    "         label=\"Actual Vacancies\", \n",
    "         color='blue'\n",
    "        )\n",
    "plt.plot(forecast['ds'], \n",
    "         forecast['yhat'],\n",
    "         label=\"Predicted Vacancies\", \n",
    "         color='orange',\n",
    "         linestyle='--'\n",
    "        )\n",
    "plt.fill_between(forecast['ds'], \n",
    "                 forecast['yhat_lower'], \n",
    "                 forecast['yhat_upper'],\n",
    "                 color='orange', \n",
    "                 alpha=0.2, \n",
    "                 label=\"Uncertainty Interval\"\n",
    "                )\n",
    "plt.title(f\"Vacancies for {area} - Actual vs Predicted\")\n",
    "plt.xlabel(\"Date\")\n",
    "plt.ylabel(\"Vacancies\")\n",
    "plt.legend()\n",
    "plt.grid(True)\n",
    "plt.savefig('../plots/before-tuning/forecasted_gc-before.png', dpi=300, bbox_inches='tight')\n",
    "plt.show()"
   ]
  },
  {
   "cell_type": "markdown",
   "id": "37147579-dd51-4296-9041-96250ec5fcd5",
   "metadata": {},
   "source": [
    "### 2. Cross Validation"
   ]
  },
  {
   "cell_type": "code",
   "execution_count": 11,
   "id": "92da01c2-221a-4eaa-bdef-a87074de9e36",
   "metadata": {},
   "outputs": [
    {
     "data": {
      "application/vnd.jupyter.widget-view+json": {
       "model_id": "81f5f35c61bb44e1aaaa9e197733b2f5",
       "version_major": 2,
       "version_minor": 0
      },
      "text/plain": [
       "  0%|          | 0/1 [00:00<?, ?it/s]"
      ]
     },
     "metadata": {},
     "output_type": "display_data"
    },
    {
     "name": "stderr",
     "output_type": "stream",
     "text": [
      "21:05:27 - cmdstanpy - INFO - Chain [1] start processing\n",
      "21:05:27 - cmdstanpy - INFO - Chain [1] done processing\n"
     ]
    },
    {
     "name": "stdout",
     "output_type": "stream",
     "text": [
      "Mean Absolute Error: 3.13\n",
      "Mean Squared Error: 12.22\n",
      "Root Mean Squared Error: 3.50\n"
     ]
    }
   ],
   "source": [
    "# Perform cross-validation\n",
    "# - 'initial' - the training period, here 730 days = 2 years\n",
    "# - 'period' - the spacing between validation sets, here 180 days = 0.5 year\n",
    "# - 'horizon' - the forecast horizon, here 365 days = 1 year\n",
    "cv = cross_validation(model,\n",
    "                      initial='730 days',\n",
    "                      period='180 days',\n",
    "                      horizon='365 days'\n",
    "                     )\n",
    "# Calculate performance metrics (MAE, MSE, RMSE)\n",
    "# Evaluate errors\n",
    "mae = mean_absolute_error(cv['y'], cv['yhat'])\n",
    "mse = mean_squared_error(cv['y'], cv['yhat'])\n",
    "rmse = np.sqrt(mse)\n",
    "\n",
    "# Print metrics\n",
    "print(f\"Mean Absolute Error: {mae:.2f}\")\n",
    "print(f\"Mean Squared Error: {mse:.2f}\")\n",
    "print(f\"Root Mean Squared Error: {rmse:.2f}\")"
   ]
  },
  {
   "cell_type": "code",
   "execution_count": null,
   "id": "156b2408-c11c-4451-b2c2-247063034d5a",
   "metadata": {},
   "outputs": [
    {
     "data": {
      "image/png": "[encoded data removed]",
      "text/plain": [
       "<Figure size 1200x600 with 1 Axes>"
      ]
     },
     "metadata": {},
     "output_type": "display_data"
    }
   ],
   "source": [
    "# Plot cross validation results:\n",
    "plt.figure(figsize=(12, 6))\n",
    "plt.plot(cv['ds'], \n",
    "         cv['yhat'],\n",
    "         label=\"Predicted Vacancies (CV)\", \n",
    "         color='orange'\n",
    "        )\n",
    "plt.plot(cv['ds'], \n",
    "         cv['y'], \n",
    "         label=\"Actual Vacancies (CV)\",\n",
    "         color='blue'\n",
    "        )\n",
    "plt.fill_between(cv['ds'], \n",
    "                 cv['yhat_lower'], \n",
    "                 cv['yhat_upper'], \n",
    "                 color='orange', \n",
    "                 alpha=0.2\n",
    "                )\n",
    "plt.title(f\"Cross-Validation for {area} - Actual vs Predicted Vacancies\")\n",
    "plt.xlabel(\"Date\")\n",
    "plt.ylabel(\"Vacancies\")\n",
    "plt.legend()\n",
    "plt.grid(True)\n",
    "plt.show()"
   ]
  },
  {
   "cell_type": "markdown",
   "id": "fe661e57-099a-4a9b-904d-dbcbfd88b603",
   "metadata": {},
   "source": [
    "### 3. Hyperparameter Tuning"
   ]
  },
  {
   "cell_type": "code",
   "execution_count": 13,
   "id": "7a186d20-d9af-4531-86c3-bf35682f73b4",
   "metadata": {},
   "outputs": [
    {
     "name": "stdout",
     "output_type": "stream",
     "text": [
      "Testing parameters: {'changepoint_prior_scale': 0.001, 'seasonality_prior_scale': 0.1, 'yearly_seasonality': 10}\n"
     ]
    },
    {
     "name": "stderr",
     "output_type": "stream",
     "text": [
      "21:05:28 - cmdstanpy - INFO - Chain [1] start processing\n",
      "21:05:28 - cmdstanpy - INFO - Chain [1] done processing\n"
     ]
    },
    {
     "data": {
      "application/vnd.jupyter.widget-view+json": {
       "model_id": "6509c7f8f54b4f0a9ec803ed0e63e391",
       "version_major": 2,
       "version_minor": 0
      },
      "text/plain": [
       "  0%|          | 0/1 [00:00<?, ?it/s]"
      ]
     },
     "metadata": {},
     "output_type": "display_data"
    },
    {
     "name": "stderr",
     "output_type": "stream",
     "text": [
      "21:05:29 - cmdstanpy - INFO - Chain [1] start processing\n",
      "21:05:29 - cmdstanpy - INFO - Chain [1] done processing\n"
     ]
    },
    {
     "name": "stdout",
     "output_type": "stream",
     "text": [
      "Testing parameters: {'changepoint_prior_scale': 0.001, 'seasonality_prior_scale': 0.1, 'yearly_seasonality': 20}\n"
     ]
    },
    {
     "name": "stderr",
     "output_type": "stream",
     "text": [
      "21:05:29 - cmdstanpy - INFO - Chain [1] start processing\n",
      "21:05:30 - cmdstanpy - INFO - Chain [1] done processing\n"
     ]
    },
    {
     "data": {
      "application/vnd.jupyter.widget-view+json": {
       "model_id": "b8a3097f6a3f4c5d8809496394bdb8b5",
       "version_major": 2,
       "version_minor": 0
      },
      "text/plain": [
       "  0%|          | 0/1 [00:00<?, ?it/s]"
      ]
     },
     "metadata": {},
     "output_type": "display_data"
    },
    {
     "name": "stderr",
     "output_type": "stream",
     "text": [
      "21:05:30 - cmdstanpy - INFO - Chain [1] start processing\n",
      "21:05:30 - cmdstanpy - INFO - Chain [1] done processing\n"
     ]
    },
    {
     "name": "stdout",
     "output_type": "stream",
     "text": [
      "Testing parameters: {'changepoint_prior_scale': 0.001, 'seasonality_prior_scale': 0.1, 'yearly_seasonality': 30}\n"
     ]
    },
    {
     "name": "stderr",
     "output_type": "stream",
     "text": [
      "21:05:31 - cmdstanpy - INFO - Chain [1] start processing\n",
      "21:05:31 - cmdstanpy - INFO - Chain [1] done processing\n"
     ]
    },
    {
     "data": {
      "application/vnd.jupyter.widget-view+json": {
       "model_id": "b1aa27c30cfb45f59512302a1390ea81",
       "version_major": 2,
       "version_minor": 0
      },
      "text/plain": [
       "  0%|          | 0/1 [00:00<?, ?it/s]"
      ]
     },
     "metadata": {},
     "output_type": "display_data"
    },
    {
     "name": "stderr",
     "output_type": "stream",
     "text": [
      "21:05:31 - cmdstanpy - INFO - Chain [1] start processing\n",
      "21:05:31 - cmdstanpy - INFO - Chain [1] done processing\n"
     ]
    },
    {
     "name": "stdout",
     "output_type": "stream",
     "text": [
      "Testing parameters: {'changepoint_prior_scale': 0.001, 'seasonality_prior_scale': 1, 'yearly_seasonality': 10}\n"
     ]
    },
    {
     "name": "stderr",
     "output_type": "stream",
     "text": [
      "21:05:32 - cmdstanpy - INFO - Chain [1] start processing\n",
      "21:05:32 - cmdstanpy - INFO - Chain [1] done processing\n"
     ]
    },
    {
     "data": {
      "application/vnd.jupyter.widget-view+json": {
       "model_id": "5bb84d27362d4bf6aee5e8cb46d53d52",
       "version_major": 2,
       "version_minor": 0
      },
      "text/plain": [
       "  0%|          | 0/1 [00:00<?, ?it/s]"
      ]
     },
     "metadata": {},
     "output_type": "display_data"
    },
    {
     "name": "stderr",
     "output_type": "stream",
     "text": [
      "21:05:32 - cmdstanpy - INFO - Chain [1] start processing\n",
      "21:05:32 - cmdstanpy - INFO - Chain [1] done processing\n"
     ]
    },
    {
     "name": "stdout",
     "output_type": "stream",
     "text": [
      "Testing parameters: {'changepoint_prior_scale': 0.001, 'seasonality_prior_scale': 1, 'yearly_seasonality': 20}\n"
     ]
    },
    {
     "name": "stderr",
     "output_type": "stream",
     "text": [
      "21:05:33 - cmdstanpy - INFO - Chain [1] start processing\n",
      "21:05:33 - cmdstanpy - INFO - Chain [1] done processing\n"
     ]
    },
    {
     "data": {
      "application/vnd.jupyter.widget-view+json": {
       "model_id": "b30842ad1c534693825f6be06b75d7b9",
       "version_major": 2,
       "version_minor": 0
      },
      "text/plain": [
       "  0%|          | 0/1 [00:00<?, ?it/s]"
      ]
     },
     "metadata": {},
     "output_type": "display_data"
    },
    {
     "name": "stderr",
     "output_type": "stream",
     "text": [
      "21:05:33 - cmdstanpy - INFO - Chain [1] start processing\n",
      "21:05:34 - cmdstanpy - INFO - Chain [1] done processing\n"
     ]
    },
    {
     "name": "stdout",
     "output_type": "stream",
     "text": [
      "Testing parameters: {'changepoint_prior_scale': 0.001, 'seasonality_prior_scale': 1, 'yearly_seasonality': 30}\n"
     ]
    },
    {
     "name": "stderr",
     "output_type": "stream",
     "text": [
      "21:05:34 - cmdstanpy - INFO - Chain [1] start processing\n",
      "21:05:35 - cmdstanpy - INFO - Chain [1] done processing\n"
     ]
    },
    {
     "data": {
      "application/vnd.jupyter.widget-view+json": {
       "model_id": "3d82a753099741c0b95b18dfdd1cd4f9",
       "version_major": 2,
       "version_minor": 0
      },
      "text/plain": [
       "  0%|          | 0/1 [00:00<?, ?it/s]"
      ]
     },
     "metadata": {},
     "output_type": "display_data"
    },
    {
     "name": "stderr",
     "output_type": "stream",
     "text": [
      "21:05:35 - cmdstanpy - INFO - Chain [1] start processing\n",
      "21:05:35 - cmdstanpy - INFO - Chain [1] done processing\n",
      "21:05:36 - cmdstanpy - INFO - Chain [1] start processing\n"
     ]
    },
    {
     "name": "stdout",
     "output_type": "stream",
     "text": [
      "Testing parameters: {'changepoint_prior_scale': 0.001, 'seasonality_prior_scale': 10, 'yearly_seasonality': 10}\n"
     ]
    },
    {
     "name": "stderr",
     "output_type": "stream",
     "text": [
      "21:05:36 - cmdstanpy - INFO - Chain [1] done processing\n"
     ]
    },
    {
     "data": {
      "application/vnd.jupyter.widget-view+json": {
       "model_id": "2110030a50ac48edb7ac4f2758b53f60",
       "version_major": 2,
       "version_minor": 0
      },
      "text/plain": [
       "  0%|          | 0/1 [00:00<?, ?it/s]"
      ]
     },
     "metadata": {},
     "output_type": "display_data"
    },
    {
     "name": "stderr",
     "output_type": "stream",
     "text": [
      "21:05:36 - cmdstanpy - INFO - Chain [1] start processing\n",
      "21:05:36 - cmdstanpy - INFO - Chain [1] done processing\n"
     ]
    },
    {
     "name": "stdout",
     "output_type": "stream",
     "text": [
      "Testing parameters: {'changepoint_prior_scale': 0.001, 'seasonality_prior_scale': 10, 'yearly_seasonality': 20}\n"
     ]
    },
    {
     "name": "stderr",
     "output_type": "stream",
     "text": [
      "21:05:37 - cmdstanpy - INFO - Chain [1] start processing\n",
      "21:05:37 - cmdstanpy - INFO - Chain [1] done processing\n"
     ]
    },
    {
     "data": {
      "application/vnd.jupyter.widget-view+json": {
       "model_id": "6d6f24493201425a8704740fe7dc2596",
       "version_major": 2,
       "version_minor": 0
      },
      "text/plain": [
       "  0%|          | 0/1 [00:00<?, ?it/s]"
      ]
     },
     "metadata": {},
     "output_type": "display_data"
    },
    {
     "name": "stderr",
     "output_type": "stream",
     "text": [
      "21:05:37 - cmdstanpy - INFO - Chain [1] start processing\n",
      "21:05:37 - cmdstanpy - INFO - Chain [1] done processing\n"
     ]
    },
    {
     "name": "stdout",
     "output_type": "stream",
     "text": [
      "Testing parameters: {'changepoint_prior_scale': 0.001, 'seasonality_prior_scale': 10, 'yearly_seasonality': 30}\n"
     ]
    },
    {
     "name": "stderr",
     "output_type": "stream",
     "text": [
      "21:05:38 - cmdstanpy - INFO - Chain [1] start processing\n",
      "21:05:38 - cmdstanpy - INFO - Chain [1] done processing\n"
     ]
    },
    {
     "data": {
      "application/vnd.jupyter.widget-view+json": {
       "model_id": "ed5b60319c974e95b3d2dbd59eacd7b5",
       "version_major": 2,
       "version_minor": 0
      },
      "text/plain": [
       "  0%|          | 0/1 [00:00<?, ?it/s]"
      ]
     },
     "metadata": {},
     "output_type": "display_data"
    },
    {
     "name": "stderr",
     "output_type": "stream",
     "text": [
      "21:05:38 - cmdstanpy - INFO - Chain [1] start processing\n",
      "21:05:38 - cmdstanpy - INFO - Chain [1] done processing\n"
     ]
    },
    {
     "name": "stdout",
     "output_type": "stream",
     "text": [
      "Testing parameters: {'changepoint_prior_scale': 0.01, 'seasonality_prior_scale': 0.1, 'yearly_seasonality': 10}\n"
     ]
    },
    {
     "name": "stderr",
     "output_type": "stream",
     "text": [
      "21:05:39 - cmdstanpy - INFO - Chain [1] start processing\n",
      "21:05:39 - cmdstanpy - INFO - Chain [1] done processing\n"
     ]
    },
    {
     "data": {
      "application/vnd.jupyter.widget-view+json": {
       "model_id": "1b393c13394643eb946ab667b73144fb",
       "version_major": 2,
       "version_minor": 0
      },
      "text/plain": [
       "  0%|          | 0/1 [00:00<?, ?it/s]"
      ]
     },
     "metadata": {},
     "output_type": "display_data"
    },
    {
     "name": "stderr",
     "output_type": "stream",
     "text": [
      "21:05:40 - cmdstanpy - INFO - Chain [1] start processing\n",
      "21:05:40 - cmdstanpy - INFO - Chain [1] done processing\n"
     ]
    },
    {
     "name": "stdout",
     "output_type": "stream",
     "text": [
      "Testing parameters: {'changepoint_prior_scale': 0.01, 'seasonality_prior_scale': 0.1, 'yearly_seasonality': 20}\n"
     ]
    },
    {
     "name": "stderr",
     "output_type": "stream",
     "text": [
      "21:05:40 - cmdstanpy - INFO - Chain [1] start processing\n",
      "21:05:41 - cmdstanpy - INFO - Chain [1] done processing\n"
     ]
    },
    {
     "data": {
      "application/vnd.jupyter.widget-view+json": {
       "model_id": "b4b2cafb163f44f881d9675d8813e77a",
       "version_major": 2,
       "version_minor": 0
      },
      "text/plain": [
       "  0%|          | 0/1 [00:00<?, ?it/s]"
      ]
     },
     "metadata": {},
     "output_type": "display_data"
    },
    {
     "name": "stderr",
     "output_type": "stream",
     "text": [
      "21:05:41 - cmdstanpy - INFO - Chain [1] start processing\n",
      "21:05:41 - cmdstanpy - INFO - Chain [1] done processing\n"
     ]
    },
    {
     "name": "stdout",
     "output_type": "stream",
     "text": [
      "Testing parameters: {'changepoint_prior_scale': 0.01, 'seasonality_prior_scale': 0.1, 'yearly_seasonality': 30}\n"
     ]
    },
    {
     "name": "stderr",
     "output_type": "stream",
     "text": [
      "21:05:42 - cmdstanpy - INFO - Chain [1] start processing\n",
      "21:05:42 - cmdstanpy - INFO - Chain [1] done processing\n"
     ]
    },
    {
     "data": {
      "application/vnd.jupyter.widget-view+json": {
       "model_id": "47d31105492649f48be0711bc520e87d",
       "version_major": 2,
       "version_minor": 0
      },
      "text/plain": [
       "  0%|          | 0/1 [00:00<?, ?it/s]"
      ]
     },
     "metadata": {},
     "output_type": "display_data"
    },
    {
     "name": "stderr",
     "output_type": "stream",
     "text": [
      "21:05:42 - cmdstanpy - INFO - Chain [1] start processing\n",
      "21:05:42 - cmdstanpy - INFO - Chain [1] done processing\n"
     ]
    },
    {
     "name": "stdout",
     "output_type": "stream",
     "text": [
      "Testing parameters: {'changepoint_prior_scale': 0.01, 'seasonality_prior_scale': 1, 'yearly_seasonality': 10}\n"
     ]
    },
    {
     "name": "stderr",
     "output_type": "stream",
     "text": [
      "21:05:43 - cmdstanpy - INFO - Chain [1] start processing\n",
      "21:05:43 - cmdstanpy - INFO - Chain [1] done processing\n"
     ]
    },
    {
     "data": {
      "application/vnd.jupyter.widget-view+json": {
       "model_id": "b6a6d94302a44f1eac0b5af8bcc9639e",
       "version_major": 2,
       "version_minor": 0
      },
      "text/plain": [
       "  0%|          | 0/1 [00:00<?, ?it/s]"
      ]
     },
     "metadata": {},
     "output_type": "display_data"
    },
    {
     "name": "stderr",
     "output_type": "stream",
     "text": [
      "21:05:44 - cmdstanpy - INFO - Chain [1] start processing\n",
      "21:05:44 - cmdstanpy - INFO - Chain [1] done processing\n"
     ]
    },
    {
     "name": "stdout",
     "output_type": "stream",
     "text": [
      "Testing parameters: {'changepoint_prior_scale': 0.01, 'seasonality_prior_scale': 1, 'yearly_seasonality': 20}\n"
     ]
    },
    {
     "name": "stderr",
     "output_type": "stream",
     "text": [
      "21:05:44 - cmdstanpy - INFO - Chain [1] start processing\n",
      "21:05:45 - cmdstanpy - INFO - Chain [1] done processing\n"
     ]
    },
    {
     "data": {
      "application/vnd.jupyter.widget-view+json": {
       "model_id": "2eae8e85b96344ab994516348e9920f9",
       "version_major": 2,
       "version_minor": 0
      },
      "text/plain": [
       "  0%|          | 0/1 [00:00<?, ?it/s]"
      ]
     },
     "metadata": {},
     "output_type": "display_data"
    },
    {
     "name": "stderr",
     "output_type": "stream",
     "text": [
      "21:05:45 - cmdstanpy - INFO - Chain [1] start processing\n",
      "21:05:45 - cmdstanpy - INFO - Chain [1] done processing\n"
     ]
    },
    {
     "name": "stdout",
     "output_type": "stream",
     "text": [
      "Testing parameters: {'changepoint_prior_scale': 0.01, 'seasonality_prior_scale': 1, 'yearly_seasonality': 30}\n"
     ]
    },
    {
     "name": "stderr",
     "output_type": "stream",
     "text": [
      "21:05:46 - cmdstanpy - INFO - Chain [1] start processing\n",
      "21:05:46 - cmdstanpy - INFO - Chain [1] done processing\n"
     ]
    },
    {
     "data": {
      "application/vnd.jupyter.widget-view+json": {
       "model_id": "b2b5e6184e334c39bcf1221c6b8a2d56",
       "version_major": 2,
       "version_minor": 0
      },
      "text/plain": [
       "  0%|          | 0/1 [00:00<?, ?it/s]"
      ]
     },
     "metadata": {},
     "output_type": "display_data"
    },
    {
     "name": "stderr",
     "output_type": "stream",
     "text": [
      "21:05:46 - cmdstanpy - INFO - Chain [1] start processing\n",
      "21:05:47 - cmdstanpy - INFO - Chain [1] done processing\n"
     ]
    },
    {
     "name": "stdout",
     "output_type": "stream",
     "text": [
      "Testing parameters: {'changepoint_prior_scale': 0.01, 'seasonality_prior_scale': 10, 'yearly_seasonality': 10}\n"
     ]
    },
    {
     "name": "stderr",
     "output_type": "stream",
     "text": [
      "21:05:47 - cmdstanpy - INFO - Chain [1] start processing\n",
      "21:05:47 - cmdstanpy - INFO - Chain [1] done processing\n"
     ]
    },
    {
     "data": {
      "application/vnd.jupyter.widget-view+json": {
       "model_id": "b991b1b7400148b8ae60bd5fd24573e9",
       "version_major": 2,
       "version_minor": 0
      },
      "text/plain": [
       "  0%|          | 0/1 [00:00<?, ?it/s]"
      ]
     },
     "metadata": {},
     "output_type": "display_data"
    },
    {
     "name": "stderr",
     "output_type": "stream",
     "text": [
      "21:05:48 - cmdstanpy - INFO - Chain [1] start processing\n",
      "21:05:48 - cmdstanpy - INFO - Chain [1] done processing\n"
     ]
    },
    {
     "name": "stdout",
     "output_type": "stream",
     "text": [
      "Testing parameters: {'changepoint_prior_scale': 0.01, 'seasonality_prior_scale': 10, 'yearly_seasonality': 20}\n"
     ]
    },
    {
     "name": "stderr",
     "output_type": "stream",
     "text": [
      "21:05:49 - cmdstanpy - INFO - Chain [1] start processing\n",
      "21:05:49 - cmdstanpy - INFO - Chain [1] done processing\n"
     ]
    },
    {
     "data": {
      "application/vnd.jupyter.widget-view+json": {
       "model_id": "bc3de27b50674d26bcd365e65c971969",
       "version_major": 2,
       "version_minor": 0
      },
      "text/plain": [
       "  0%|          | 0/1 [00:00<?, ?it/s]"
      ]
     },
     "metadata": {},
     "output_type": "display_data"
    },
    {
     "name": "stderr",
     "output_type": "stream",
     "text": [
      "21:05:49 - cmdstanpy - INFO - Chain [1] start processing\n",
      "21:05:49 - cmdstanpy - INFO - Chain [1] done processing\n"
     ]
    },
    {
     "name": "stdout",
     "output_type": "stream",
     "text": [
      "Testing parameters: {'changepoint_prior_scale': 0.01, 'seasonality_prior_scale': 10, 'yearly_seasonality': 30}\n"
     ]
    },
    {
     "name": "stderr",
     "output_type": "stream",
     "text": [
      "21:05:50 - cmdstanpy - INFO - Chain [1] start processing\n",
      "21:05:50 - cmdstanpy - INFO - Chain [1] done processing\n"
     ]
    },
    {
     "data": {
      "application/vnd.jupyter.widget-view+json": {
       "model_id": "f9c0d3f4f6484fe983a50b665c7714a6",
       "version_major": 2,
       "version_minor": 0
      },
      "text/plain": [
       "  0%|          | 0/1 [00:00<?, ?it/s]"
      ]
     },
     "metadata": {},
     "output_type": "display_data"
    },
    {
     "name": "stderr",
     "output_type": "stream",
     "text": [
      "21:05:50 - cmdstanpy - INFO - Chain [1] start processing\n",
      "21:05:51 - cmdstanpy - INFO - Chain [1] done processing\n"
     ]
    },
    {
     "name": "stdout",
     "output_type": "stream",
     "text": [
      "Testing parameters: {'changepoint_prior_scale': 0.1, 'seasonality_prior_scale': 0.1, 'yearly_seasonality': 10}\n"
     ]
    },
    {
     "name": "stderr",
     "output_type": "stream",
     "text": [
      "21:05:51 - cmdstanpy - INFO - Chain [1] start processing\n",
      "21:05:52 - cmdstanpy - INFO - Chain [1] done processing\n"
     ]
    },
    {
     "data": {
      "application/vnd.jupyter.widget-view+json": {
       "model_id": "082f88a78038466ca0a74071ba9d69d2",
       "version_major": 2,
       "version_minor": 0
      },
      "text/plain": [
       "  0%|          | 0/1 [00:00<?, ?it/s]"
      ]
     },
     "metadata": {},
     "output_type": "display_data"
    },
    {
     "name": "stderr",
     "output_type": "stream",
     "text": [
      "21:05:52 - cmdstanpy - INFO - Chain [1] start processing\n",
      "21:05:52 - cmdstanpy - INFO - Chain [1] done processing\n"
     ]
    },
    {
     "name": "stdout",
     "output_type": "stream",
     "text": [
      "Testing parameters: {'changepoint_prior_scale': 0.1, 'seasonality_prior_scale': 0.1, 'yearly_seasonality': 20}\n"
     ]
    },
    {
     "name": "stderr",
     "output_type": "stream",
     "text": [
      "21:05:53 - cmdstanpy - INFO - Chain [1] start processing\n",
      "21:05:54 - cmdstanpy - INFO - Chain [1] done processing\n"
     ]
    },
    {
     "data": {
      "application/vnd.jupyter.widget-view+json": {
       "model_id": "89a2ba03e8454e29bc95fe408e92be81",
       "version_major": 2,
       "version_minor": 0
      },
      "text/plain": [
       "  0%|          | 0/1 [00:00<?, ?it/s]"
      ]
     },
     "metadata": {},
     "output_type": "display_data"
    },
    {
     "name": "stderr",
     "output_type": "stream",
     "text": [
      "21:05:54 - cmdstanpy - INFO - Chain [1] start processing\n",
      "21:05:55 - cmdstanpy - INFO - Chain [1] done processing\n"
     ]
    },
    {
     "name": "stdout",
     "output_type": "stream",
     "text": [
      "Testing parameters: {'changepoint_prior_scale': 0.1, 'seasonality_prior_scale': 0.1, 'yearly_seasonality': 30}\n"
     ]
    },
    {
     "name": "stderr",
     "output_type": "stream",
     "text": [
      "21:05:56 - cmdstanpy - INFO - Chain [1] start processing\n",
      "21:05:57 - cmdstanpy - INFO - Chain [1] done processing\n"
     ]
    },
    {
     "data": {
      "application/vnd.jupyter.widget-view+json": {
       "model_id": "64f19922291e4ec9be9e2aa9caa9d6a4",
       "version_major": 2,
       "version_minor": 0
      },
      "text/plain": [
       "  0%|          | 0/1 [00:00<?, ?it/s]"
      ]
     },
     "metadata": {},
     "output_type": "display_data"
    },
    {
     "name": "stderr",
     "output_type": "stream",
     "text": [
      "21:05:57 - cmdstanpy - INFO - Chain [1] start processing\n",
      "21:05:57 - cmdstanpy - INFO - Chain [1] done processing\n"
     ]
    },
    {
     "name": "stdout",
     "output_type": "stream",
     "text": [
      "Testing parameters: {'changepoint_prior_scale': 0.1, 'seasonality_prior_scale': 1, 'yearly_seasonality': 10}\n"
     ]
    },
    {
     "name": "stderr",
     "output_type": "stream",
     "text": [
      "21:05:58 - cmdstanpy - INFO - Chain [1] start processing\n",
      "21:05:59 - cmdstanpy - INFO - Chain [1] done processing\n"
     ]
    },
    {
     "data": {
      "application/vnd.jupyter.widget-view+json": {
       "model_id": "a16a14867873444798442a9745ec00df",
       "version_major": 2,
       "version_minor": 0
      },
      "text/plain": [
       "  0%|          | 0/1 [00:00<?, ?it/s]"
      ]
     },
     "metadata": {},
     "output_type": "display_data"
    },
    {
     "name": "stderr",
     "output_type": "stream",
     "text": [
      "21:05:59 - cmdstanpy - INFO - Chain [1] start processing\n",
      "21:05:59 - cmdstanpy - INFO - Chain [1] done processing\n"
     ]
    },
    {
     "name": "stdout",
     "output_type": "stream",
     "text": [
      "Testing parameters: {'changepoint_prior_scale': 0.1, 'seasonality_prior_scale': 1, 'yearly_seasonality': 20}\n"
     ]
    },
    {
     "name": "stderr",
     "output_type": "stream",
     "text": [
      "21:06:00 - cmdstanpy - INFO - Chain [1] start processing\n",
      "21:06:01 - cmdstanpy - INFO - Chain [1] done processing\n"
     ]
    },
    {
     "data": {
      "application/vnd.jupyter.widget-view+json": {
       "model_id": "be6a4e8aadd244ddac230171fc66e60b",
       "version_major": 2,
       "version_minor": 0
      },
      "text/plain": [
       "  0%|          | 0/1 [00:00<?, ?it/s]"
      ]
     },
     "metadata": {},
     "output_type": "display_data"
    },
    {
     "name": "stderr",
     "output_type": "stream",
     "text": [
      "21:06:01 - cmdstanpy - INFO - Chain [1] start processing\n",
      "21:06:02 - cmdstanpy - INFO - Chain [1] done processing\n"
     ]
    },
    {
     "name": "stdout",
     "output_type": "stream",
     "text": [
      "Testing parameters: {'changepoint_prior_scale': 0.1, 'seasonality_prior_scale': 1, 'yearly_seasonality': 30}\n"
     ]
    },
    {
     "name": "stderr",
     "output_type": "stream",
     "text": [
      "21:06:02 - cmdstanpy - INFO - Chain [1] start processing\n",
      "21:06:04 - cmdstanpy - INFO - Chain [1] done processing\n"
     ]
    },
    {
     "data": {
      "application/vnd.jupyter.widget-view+json": {
       "model_id": "c764477209ac40379279b82eb158024a",
       "version_major": 2,
       "version_minor": 0
      },
      "text/plain": [
       "  0%|          | 0/1 [00:00<?, ?it/s]"
      ]
     },
     "metadata": {},
     "output_type": "display_data"
    },
    {
     "name": "stderr",
     "output_type": "stream",
     "text": [
      "21:06:04 - cmdstanpy - INFO - Chain [1] start processing\n",
      "21:06:04 - cmdstanpy - INFO - Chain [1] done processing\n"
     ]
    },
    {
     "name": "stdout",
     "output_type": "stream",
     "text": [
      "Testing parameters: {'changepoint_prior_scale': 0.1, 'seasonality_prior_scale': 10, 'yearly_seasonality': 10}\n"
     ]
    },
    {
     "name": "stderr",
     "output_type": "stream",
     "text": [
      "21:06:05 - cmdstanpy - INFO - Chain [1] start processing\n",
      "21:06:06 - cmdstanpy - INFO - Chain [1] done processing\n"
     ]
    },
    {
     "data": {
      "application/vnd.jupyter.widget-view+json": {
       "model_id": "33c2bdfb904a48639065b277c6fed6b1",
       "version_major": 2,
       "version_minor": 0
      },
      "text/plain": [
       "  0%|          | 0/1 [00:00<?, ?it/s]"
      ]
     },
     "metadata": {},
     "output_type": "display_data"
    },
    {
     "name": "stderr",
     "output_type": "stream",
     "text": [
      "21:06:06 - cmdstanpy - INFO - Chain [1] start processing\n",
      "21:06:06 - cmdstanpy - INFO - Chain [1] done processing\n"
     ]
    },
    {
     "name": "stdout",
     "output_type": "stream",
     "text": [
      "Testing parameters: {'changepoint_prior_scale': 0.1, 'seasonality_prior_scale': 10, 'yearly_seasonality': 20}\n"
     ]
    },
    {
     "name": "stderr",
     "output_type": "stream",
     "text": [
      "21:06:07 - cmdstanpy - INFO - Chain [1] start processing\n",
      "21:06:08 - cmdstanpy - INFO - Chain [1] done processing\n"
     ]
    },
    {
     "data": {
      "application/vnd.jupyter.widget-view+json": {
       "model_id": "7d646fe43bd34173a8f3a799a21ea72c",
       "version_major": 2,
       "version_minor": 0
      },
      "text/plain": [
       "  0%|          | 0/1 [00:00<?, ?it/s]"
      ]
     },
     "metadata": {},
     "output_type": "display_data"
    },
    {
     "name": "stderr",
     "output_type": "stream",
     "text": [
      "21:06:08 - cmdstanpy - INFO - Chain [1] start processing\n",
      "21:06:08 - cmdstanpy - INFO - Chain [1] done processing\n"
     ]
    },
    {
     "name": "stdout",
     "output_type": "stream",
     "text": [
      "Testing parameters: {'changepoint_prior_scale': 0.1, 'seasonality_prior_scale': 10, 'yearly_seasonality': 30}\n"
     ]
    },
    {
     "name": "stderr",
     "output_type": "stream",
     "text": [
      "21:06:09 - cmdstanpy - INFO - Chain [1] start processing\n",
      "21:06:10 - cmdstanpy - INFO - Chain [1] done processing\n"
     ]
    },
    {
     "data": {
      "application/vnd.jupyter.widget-view+json": {
       "model_id": "ae54227ab68a4518900e94fec3a1faa2",
       "version_major": 2,
       "version_minor": 0
      },
      "text/plain": [
       "  0%|          | 0/1 [00:00<?, ?it/s]"
      ]
     },
     "metadata": {},
     "output_type": "display_data"
    },
    {
     "name": "stderr",
     "output_type": "stream",
     "text": [
      "21:06:11 - cmdstanpy - INFO - Chain [1] start processing\n",
      "21:06:11 - cmdstanpy - INFO - Chain [1] done processing\n"
     ]
    },
    {
     "name": "stdout",
     "output_type": "stream",
     "text": [
      "Best parameters: {'changepoint_prior_scale': 0.1, 'seasonality_prior_scale': 0.1, 'yearly_seasonality': 10} with RMSE: 3.42\n"
     ]
    }
   ],
   "source": [
    "from itertools import product\n",
    "\n",
    "# Define a grid of hyperparameters\n",
    "param_grid = {\n",
    "    'changepoint_prior_scale': [0.001, 0.01, 0.1],\n",
    "    'seasonality_prior_scale': [0.1, 1, 10],\n",
    "    'yearly_seasonality': [10, 20, 30]\n",
    "}\n",
    "\n",
    "# Generate all combinations of hyperparameters\n",
    "all_params = [dict(zip(param_grid.keys(), v)) for v in product(*param_grid.values())] # generated with chatGPT \n",
    "\n",
    "# List to store results\n",
    "param_results = []\n",
    "\n",
    "# Iterate through each combination of parameters\n",
    "for params in all_params:\n",
    "    print(f\"Testing parameters: {params}\")\n",
    "    \n",
    "    # Initialize and fit the model with the current parameters\n",
    "    model = Prophet(\n",
    "        holidays=holidays, \n",
    "        changepoint_prior_scale=params['changepoint_prior_scale'],\n",
    "        seasonality_prior_scale=params['seasonality_prior_scale'],\n",
    "        yearly_seasonality=params['yearly_seasonality'],\n",
    "        seasonality_mode='additive'\n",
    "    )\n",
    "    model.add_regressor('end_of_month')\n",
    "    model.fit(df_green)\n",
    "    \n",
    "    # Perform cross-validation\n",
    "    cv_hp = cross_validation(\n",
    "        model, \n",
    "        initial='730 days', \n",
    "        period='180 days', \n",
    "        horizon='365 days'\n",
    "    )\n",
    "    \n",
    "    # Compute metrics\n",
    "    metrics = performance_metrics(cv_hp)\n",
    "    param_results.append((params, metrics['rmse'].mean()))\n",
    "\n",
    "# Find the best parameters based on RMSE\n",
    "best_params = min(param_results, key=lambda x: x[1])\n",
    "print(f\"Best parameters: {best_params[0]} with RMSE: {best_params[1]:.2f}\")"
   ]
  },
  {
   "cell_type": "markdown",
   "id": "1274cef5-c0b1-4d40-83b6-713193cf06e5",
   "metadata": {},
   "source": [
    "### Final evaluation with best parameters"
   ]
  },
  {
   "cell_type": "code",
   "execution_count": 14,
   "id": "121b4235-c6a6-4b41-986f-6efc1330fbb6",
   "metadata": {},
   "outputs": [
    {
     "name": "stderr",
     "output_type": "stream",
     "text": [
      "21:06:12 - cmdstanpy - INFO - Chain [1] start processing\n",
      "21:06:13 - cmdstanpy - INFO - Chain [1] done processing\n"
     ]
    }
   ],
   "source": [
    "# Train the model with the best parameters\n",
    "best_model = Prophet(\n",
    "    holidays=holidays,\n",
    "    changepoint_prior_scale=best_params[0]['changepoint_prior_scale'],\n",
    "    seasonality_prior_scale=best_params[0]['seasonality_prior_scale'],\n",
    "    yearly_seasonality=best_params[0]['yearly_seasonality'],\n",
    "    seasonality_mode='additive'\n",
    ")\n",
    "best_model.add_regressor('end_of_month')\n",
    "best_model.fit(df_green)\n",
    "\n",
    "# Predict and visualize using the best model\n",
    "future = best_model.make_future_dataframe(periods=365)\n",
    "future['end_of_month'] = future['ds'].dt.is_month_end.astype(int)\n",
    "forecast = best_model.predict(future)\n",
    "\n",
    "# Clip the predicted values to ensure no negative values\n",
    "forecast['yhat'] = forecast['yhat'].clip(lower=0)\n",
    "forecast['yhat_lower'] = forecast['yhat_lower'].clip(lower=0)\n",
    "forecast['yhat_upper'] = forecast['yhat_upper'].clip(lower=0)"
   ]
  },
  {
   "cell_type": "code",
   "execution_count": 15,
   "id": "29f2e742-ed1d-4f63-a4cd-06c23cb2f475",
   "metadata": {},
   "outputs": [
    {
     "data": {
      "image/png": "[encoded data removed]",
      "text/plain": [
       "<Figure size 1200x600 with 1 Axes>"
      ]
     },
     "metadata": {},
     "output_type": "display_data"
    }
   ],
   "source": [
    "# Plot final forecast\n",
    "plt.figure(figsize=(12, 6))\n",
    "plt.plot(df_green['ds'], \n",
    "         df_green['y'], \n",
    "         label=\"Actual Vacancies\",\n",
    "         color='blue'\n",
    "        )\n",
    "plt.plot(forecast['ds'], \n",
    "         forecast['yhat'],\n",
    "         label=\"Best Model Predictions\",\n",
    "         color='green',\n",
    "         linestyle='--'\n",
    "        )\n",
    "plt.fill_between(\n",
    "    forecast['ds'], \n",
    "    forecast['yhat_lower'], \n",
    "    forecast['yhat_upper'], \n",
    "    color='green', alpha=0.2, label=\"Uncertainty Interval\"\n",
    ")\n",
    "plt.title(\"Vacancies - Best Model Prediction\")\n",
    "plt.xlabel(\"Date\")\n",
    "plt.ylabel(\"Vacancies\")\n",
    "plt.legend()\n",
    "plt.grid(True)\n",
    "plt.savefig('../plots/after-tuning/forecasted_gc-after.png', dpi=300, bbox_inches='tight')\n",
    "plt.show()"
   ]
  },
  {
   "cell_type": "code",
   "execution_count": 16,
   "id": "5526452d-fd8c-4e0b-98f0-35540925db4b",
   "metadata": {},
   "outputs": [],
   "source": [
    "forecast.to_csv('../data/predictions/forecast_green.csv', index = False)\n",
    "df_green.to_csv('../data/predictions/df_green.csv', index = False)"
   ]
  }
 ],
 "metadata": {
  "kernelspec": {
   "display_name": "Python 3 (ipykernel)",
   "language": "python",
   "name": "python3"
  },
  "language_info": {
   "codemirror_mode": {
    "name": "ipython",
    "version": 3
   },
   "file_extension": ".py",
   "mimetype": "text/x-python",
   "name": "python",
   "nbconvert_exporter": "python",
   "pygments_lexer": "ipython3",
   "version": "3.12.3"
  }
 },
 "nbformat": 4,
 "nbformat_minor": 5
}
