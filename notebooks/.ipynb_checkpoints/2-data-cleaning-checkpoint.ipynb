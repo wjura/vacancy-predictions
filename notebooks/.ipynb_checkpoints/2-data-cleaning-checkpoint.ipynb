{
 "cells": [
  {
   "cell_type": "code",
   "execution_count": 1,
   "id": "f7e63c69-ac5b-4b69-b472-8833fd7370b2",
   "metadata": {},
   "outputs": [],
   "source": [
    "import pandas as pd\n",
    "import numpy as np"
   ]
  },
  {
   "cell_type": "code",
   "execution_count": 2,
   "id": "72fd2f25-1062-4807-96bf-75e5ef80ba90",
   "metadata": {},
   "outputs": [],
   "source": [
    "df = pd.read_excel(\"../data/YR_all_dates/concatenated_output.xlsx\")"
   ]
  },
  {
   "cell_type": "code",
   "execution_count": 3,
   "id": "363fbfdf-09ef-431d-bff7-724814b2bef8",
   "metadata": {},
   "outputs": [
    {
     "data": {
      "text/html": [
       "<div>\n",
       "<style scoped>\n",
       "    .dataframe tbody tr th:only-of-type {\n",
       "        vertical-align: middle;\n",
       "    }\n",
       "\n",
       "    .dataframe tbody tr th {\n",
       "        vertical-align: top;\n",
       "    }\n",
       "\n",
       "    .dataframe thead th {\n",
       "        text-align: right;\n",
       "    }\n",
       "</style>\n",
       "<table border=\"1\" class=\"dataframe\">\n",
       "  <thead>\n",
       "    <tr style=\"text-align: right;\">\n",
       "      <th></th>\n",
       "      <th>DATE</th>\n",
       "      <th>AREA</th>\n",
       "      <th>BUILDING</th>\n",
       "      <th>ROOM</th>\n",
       "      <th>ROOM TYPE</th>\n",
       "      <th>GENDER</th>\n",
       "      <th>STATUS</th>\n",
       "      <th>LAST TENANCY END</th>\n",
       "      <th>LAST CHECKOUT</th>\n",
       "    </tr>\n",
       "  </thead>\n",
       "  <tbody>\n",
       "    <tr>\n",
       "      <th>0</th>\n",
       "      <td>1-1-2022</td>\n",
       "      <td>ACADIA</td>\n",
       "      <td>2725</td>\n",
       "      <td>301</td>\n",
       "      <td>AP1HRD</td>\n",
       "      <td>E</td>\n",
       "      <td>CLEAN</td>\n",
       "      <td>2027-02-01</td>\n",
       "      <td>2020-10-19</td>\n",
       "    </tr>\n",
       "    <tr>\n",
       "      <th>1</th>\n",
       "      <td>1-1-2022</td>\n",
       "      <td>ACADIA</td>\n",
       "      <td>2725</td>\n",
       "      <td>502</td>\n",
       "      <td>AP1HRD</td>\n",
       "      <td>E</td>\n",
       "      <td>CLEAN</td>\n",
       "      <td>2027-02-01</td>\n",
       "      <td>2020-09-08</td>\n",
       "    </tr>\n",
       "    <tr>\n",
       "      <th>2</th>\n",
       "      <td>1-1-2022</td>\n",
       "      <td>ACADIA</td>\n",
       "      <td>2725</td>\n",
       "      <td>605</td>\n",
       "      <td>AP1HRD</td>\n",
       "      <td>E</td>\n",
       "      <td>CLEAN</td>\n",
       "      <td>2027-10-01</td>\n",
       "      <td>2021-08-30</td>\n",
       "    </tr>\n",
       "    <tr>\n",
       "      <th>3</th>\n",
       "      <td>1-1-2022</td>\n",
       "      <td>ACADIA</td>\n",
       "      <td>2725</td>\n",
       "      <td>707</td>\n",
       "      <td>AP1HR</td>\n",
       "      <td>E</td>\n",
       "      <td>CLEAN</td>\n",
       "      <td>2026-10-01</td>\n",
       "      <td>2021-07-07</td>\n",
       "    </tr>\n",
       "    <tr>\n",
       "      <th>4</th>\n",
       "      <td>1-1-2022</td>\n",
       "      <td>ACADIA</td>\n",
       "      <td>2725</td>\n",
       "      <td>907</td>\n",
       "      <td>AP1HR</td>\n",
       "      <td>E</td>\n",
       "      <td>CLEAN</td>\n",
       "      <td>2026-03-01</td>\n",
       "      <td>2021-11-15</td>\n",
       "    </tr>\n",
       "  </tbody>\n",
       "</table>\n",
       "</div>"
      ],
      "text/plain": [
       "       DATE    AREA BUILDING ROOM ROOM TYPE GENDER STATUS LAST TENANCY END  \\\n",
       "0  1-1-2022  ACADIA     2725  301    AP1HRD      E  CLEAN       2027-02-01   \n",
       "1  1-1-2022  ACADIA     2725  502    AP1HRD      E  CLEAN       2027-02-01   \n",
       "2  1-1-2022  ACADIA     2725  605    AP1HRD      E  CLEAN       2027-10-01   \n",
       "3  1-1-2022  ACADIA     2725  707     AP1HR      E  CLEAN       2026-10-01   \n",
       "4  1-1-2022  ACADIA     2725  907     AP1HR      E  CLEAN       2026-03-01   \n",
       "\n",
       "  LAST CHECKOUT   \n",
       "0     2020-10-19  \n",
       "1     2020-09-08  \n",
       "2     2021-08-30  \n",
       "3     2021-07-07  \n",
       "4     2021-11-15  "
      ]
     },
     "execution_count": 3,
     "metadata": {},
     "output_type": "execute_result"
    }
   ],
   "source": [
    "df.head()"
   ]
  },
  {
   "cell_type": "code",
   "execution_count": 4,
   "id": "066d5648-d75d-48a1-bff4-d1d3f032dffb",
   "metadata": {},
   "outputs": [
    {
     "name": "stdout",
     "output_type": "stream",
     "text": [
      "<class 'pandas.core.frame.DataFrame'>\n",
      "RangeIndex: 718674 entries, 0 to 718673\n",
      "Data columns (total 9 columns):\n",
      " #   Column            Non-Null Count   Dtype         \n",
      "---  ------            --------------   -----         \n",
      " 0   DATE              718674 non-null  object        \n",
      " 1   AREA              718674 non-null  object        \n",
      " 2   BUILDING          718674 non-null  object        \n",
      " 3   ROOM              718674 non-null  object        \n",
      " 4   ROOM TYPE         718674 non-null  object        \n",
      " 5   GENDER            718674 non-null  object        \n",
      " 6   STATUS            718674 non-null  object        \n",
      " 7   LAST TENANCY END  718674 non-null  datetime64[ns]\n",
      " 8   LAST CHECKOUT     144135 non-null  datetime64[ns]\n",
      "dtypes: datetime64[ns](2), object(7)\n",
      "memory usage: 49.3+ MB\n"
     ]
    }
   ],
   "source": [
    "df.info()"
   ]
  },
  {
   "cell_type": "code",
   "execution_count": 5,
   "id": "0566a1e0-94e8-4f47-804c-fd832748b27a",
   "metadata": {},
   "outputs": [],
   "source": [
    "df['DATE'] = pd.to_datetime(df['DATE'], format='%d-%m-%Y')"
   ]
  },
  {
   "cell_type": "code",
   "execution_count": 6,
   "id": "95cdbff6-1e10-4810-a461-958aef16f88d",
   "metadata": {},
   "outputs": [
    {
     "name": "stdout",
     "output_type": "stream",
     "text": [
      "<class 'pandas.core.frame.DataFrame'>\n",
      "RangeIndex: 718674 entries, 0 to 718673\n",
      "Data columns (total 9 columns):\n",
      " #   Column            Non-Null Count   Dtype         \n",
      "---  ------            --------------   -----         \n",
      " 0   DATE              718674 non-null  datetime64[ns]\n",
      " 1   AREA              718674 non-null  object        \n",
      " 2   BUILDING          718674 non-null  object        \n",
      " 3   ROOM              718674 non-null  object        \n",
      " 4   ROOM TYPE         718674 non-null  object        \n",
      " 5   GENDER            718674 non-null  object        \n",
      " 6   STATUS            718674 non-null  object        \n",
      " 7   LAST TENANCY END  718674 non-null  datetime64[ns]\n",
      " 8   LAST CHECKOUT     144135 non-null  datetime64[ns]\n",
      "dtypes: datetime64[ns](3), object(6)\n",
      "memory usage: 49.3+ MB\n"
     ]
    }
   ],
   "source": [
    "df.info()"
   ]
  },
  {
   "cell_type": "code",
   "execution_count": 7,
   "id": "4592c3be-5983-446a-a033-d72f85910a18",
   "metadata": {},
   "outputs": [
    {
     "data": {
      "text/html": [
       "<div>\n",
       "<style scoped>\n",
       "    .dataframe tbody tr th:only-of-type {\n",
       "        vertical-align: middle;\n",
       "    }\n",
       "\n",
       "    .dataframe tbody tr th {\n",
       "        vertical-align: top;\n",
       "    }\n",
       "\n",
       "    .dataframe thead th {\n",
       "        text-align: right;\n",
       "    }\n",
       "</style>\n",
       "<table border=\"1\" class=\"dataframe\">\n",
       "  <thead>\n",
       "    <tr style=\"text-align: right;\">\n",
       "      <th></th>\n",
       "      <th>DATE</th>\n",
       "      <th>LAST TENANCY END</th>\n",
       "      <th>LAST CHECKOUT</th>\n",
       "    </tr>\n",
       "  </thead>\n",
       "  <tbody>\n",
       "    <tr>\n",
       "      <th>count</th>\n",
       "      <td>718674</td>\n",
       "      <td>718674</td>\n",
       "      <td>144135</td>\n",
       "    </tr>\n",
       "    <tr>\n",
       "      <th>mean</th>\n",
       "      <td>2022-11-18 05:58:57.544979200</td>\n",
       "      <td>2025-07-05 10:49:07.648586240</td>\n",
       "      <td>2022-08-22 11:46:23.265689088</td>\n",
       "    </tr>\n",
       "    <tr>\n",
       "      <th>min</th>\n",
       "      <td>2021-11-01 00:00:00</td>\n",
       "      <td>2020-08-05 00:00:00</td>\n",
       "      <td>2017-04-28 00:00:00</td>\n",
       "    </tr>\n",
       "    <tr>\n",
       "      <th>25%</th>\n",
       "      <td>2022-03-18 00:00:00</td>\n",
       "      <td>2025-04-28 00:00:00</td>\n",
       "      <td>2022-01-15 00:00:00</td>\n",
       "    </tr>\n",
       "    <tr>\n",
       "      <th>50%</th>\n",
       "      <td>2022-10-02 00:00:00</td>\n",
       "      <td>2025-04-28 00:00:00</td>\n",
       "      <td>2022-08-26 00:00:00</td>\n",
       "    </tr>\n",
       "    <tr>\n",
       "      <th>75%</th>\n",
       "      <td>2023-06-12 00:00:00</td>\n",
       "      <td>2025-04-28 00:00:00</td>\n",
       "      <td>2023-08-28 00:00:00</td>\n",
       "    </tr>\n",
       "    <tr>\n",
       "      <th>max</th>\n",
       "      <td>2024-11-01 00:00:00</td>\n",
       "      <td>2099-09-01 00:00:00</td>\n",
       "      <td>2024-10-31 00:00:00</td>\n",
       "    </tr>\n",
       "  </tbody>\n",
       "</table>\n",
       "</div>"
      ],
      "text/plain": [
       "                                DATE               LAST TENANCY END  \\\n",
       "count                         718674                         718674   \n",
       "mean   2022-11-18 05:58:57.544979200  2025-07-05 10:49:07.648586240   \n",
       "min              2021-11-01 00:00:00            2020-08-05 00:00:00   \n",
       "25%              2022-03-18 00:00:00            2025-04-28 00:00:00   \n",
       "50%              2022-10-02 00:00:00            2025-04-28 00:00:00   \n",
       "75%              2023-06-12 00:00:00            2025-04-28 00:00:00   \n",
       "max              2024-11-01 00:00:00            2099-09-01 00:00:00   \n",
       "\n",
       "                      LAST CHECKOUT   \n",
       "count                         144135  \n",
       "mean   2022-08-22 11:46:23.265689088  \n",
       "min              2017-04-28 00:00:00  \n",
       "25%              2022-01-15 00:00:00  \n",
       "50%              2022-08-26 00:00:00  \n",
       "75%              2023-08-28 00:00:00  \n",
       "max              2024-10-31 00:00:00  "
      ]
     },
     "execution_count": 7,
     "metadata": {},
     "output_type": "execute_result"
    }
   ],
   "source": [
    "df.describe()"
   ]
  }
 ],
 "metadata": {
  "kernelspec": {
   "display_name": "Python 3 (ipykernel)",
   "language": "python",
   "name": "python3"
  },
  "language_info": {
   "codemirror_mode": {
    "name": "ipython",
    "version": 3
   },
   "file_extension": ".py",
   "mimetype": "text/x-python",
   "name": "python",
   "nbconvert_exporter": "python",
   "pygments_lexer": "ipython3",
   "version": "3.12.3"
  }
 },
 "nbformat": 4,
 "nbformat_minor": 5
}
