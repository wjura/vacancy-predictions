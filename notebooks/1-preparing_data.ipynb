{
 "cells": [
  {
   "cell_type": "code",
   "execution_count": 1,
   "id": "6fc2b749-ba54-4b6c-88bf-4a1705004b7a",
   "metadata": {},
   "outputs": [],
   "source": [
    "import pandas as pd\n",
    "import os"
   ]
  },
  {
   "cell_type": "code",
   "execution_count": 2,
   "id": "6c541290-4cd1-4c64-b078-c142cc839b44",
   "metadata": {},
   "outputs": [
    {
     "name": "stdout",
     "output_type": "stream",
     "text": [
      "Concatenated file saved to: ../data/YR_all_dates\\concatenated_output.xlsx\n"
     ]
    }
   ],
   "source": [
    "# Path to the folder containing all of the excel files\n",
    "folder_path = \"../data/YR_all_dates\"\n",
    "\n",
    "# Initialize an empty list to store data\n",
    "data = []\n",
    "\n",
    "# Iterate over all files in the folder\n",
    "for file_name in os.listdir(folder_path):\n",
    "    if file_name.endswith(\".xlsx\"):\n",
    "        # Construct the full file path\n",
    "        file_path = os.path.join(folder_path, file_name)\n",
    "        \n",
    "        # Read the Excel file into a DataFrame\n",
    "        df = pd.read_excel(file_path)\n",
    "        \n",
    "        # Append the DataFrame to the list\n",
    "        data.append(df)\n",
    "\n",
    "# Concatenate all files into one\n",
    "concatenated_df = pd.concat(data, ignore_index=True)\n",
    "\n",
    "# Save the concatenated DataFrame to a new Excel file\n",
    "output_file = os.path.join(folder_path, \"concatenated_output.xlsx\")\n",
    "concatenated_df.to_excel(output_file, index=False)\n",
    "\n",
    "print(f\"Concatenated file saved to: {output_file}\")"
   ]
  },
  {
   "cell_type": "code",
   "execution_count": 3,
   "id": "2dd78f4b-b570-40a2-a37e-d442b66bd3e0",
   "metadata": {},
   "outputs": [],
   "source": [
    "df = pd.read_excel(\"../data/YR_all_dates/concatenated_output.xlsx\")"
   ]
  },
  {
   "cell_type": "code",
   "execution_count": 4,
   "id": "87f41608-8ac3-4162-bc48-c03a8c8cfa57",
   "metadata": {},
   "outputs": [
    {
     "data": {
      "text/html": [
       "<div>\n",
       "<style scoped>\n",
       "    .dataframe tbody tr th:only-of-type {\n",
       "        vertical-align: middle;\n",
       "    }\n",
       "\n",
       "    .dataframe tbody tr th {\n",
       "        vertical-align: top;\n",
       "    }\n",
       "\n",
       "    .dataframe thead th {\n",
       "        text-align: right;\n",
       "    }\n",
       "</style>\n",
       "<table border=\"1\" class=\"dataframe\">\n",
       "  <thead>\n",
       "    <tr style=\"text-align: right;\">\n",
       "      <th></th>\n",
       "      <th>DATE</th>\n",
       "      <th>AREA</th>\n",
       "      <th>BUILDING</th>\n",
       "      <th>ROOM</th>\n",
       "      <th>ROOM TYPE</th>\n",
       "      <th>GENDER</th>\n",
       "      <th>STATUS</th>\n",
       "      <th>LAST TENANCY END</th>\n",
       "      <th>LAST CHECKOUT</th>\n",
       "    </tr>\n",
       "  </thead>\n",
       "  <tbody>\n",
       "    <tr>\n",
       "      <th>0</th>\n",
       "      <td>1-1-2022</td>\n",
       "      <td>ACADIA</td>\n",
       "      <td>2725</td>\n",
       "      <td>301</td>\n",
       "      <td>AP1HRD</td>\n",
       "      <td>E</td>\n",
       "      <td>CLEAN</td>\n",
       "      <td>2027-02-01</td>\n",
       "      <td>2020-10-19</td>\n",
       "    </tr>\n",
       "    <tr>\n",
       "      <th>1</th>\n",
       "      <td>1-1-2022</td>\n",
       "      <td>ACADIA</td>\n",
       "      <td>2725</td>\n",
       "      <td>502</td>\n",
       "      <td>AP1HRD</td>\n",
       "      <td>E</td>\n",
       "      <td>CLEAN</td>\n",
       "      <td>2027-02-01</td>\n",
       "      <td>2020-09-08</td>\n",
       "    </tr>\n",
       "    <tr>\n",
       "      <th>2</th>\n",
       "      <td>1-1-2022</td>\n",
       "      <td>ACADIA</td>\n",
       "      <td>2725</td>\n",
       "      <td>605</td>\n",
       "      <td>AP1HRD</td>\n",
       "      <td>E</td>\n",
       "      <td>CLEAN</td>\n",
       "      <td>2027-10-01</td>\n",
       "      <td>2021-08-30</td>\n",
       "    </tr>\n",
       "    <tr>\n",
       "      <th>3</th>\n",
       "      <td>1-1-2022</td>\n",
       "      <td>ACADIA</td>\n",
       "      <td>2725</td>\n",
       "      <td>707</td>\n",
       "      <td>AP1HR</td>\n",
       "      <td>E</td>\n",
       "      <td>CLEAN</td>\n",
       "      <td>2026-10-01</td>\n",
       "      <td>2021-07-07</td>\n",
       "    </tr>\n",
       "    <tr>\n",
       "      <th>4</th>\n",
       "      <td>1-1-2022</td>\n",
       "      <td>ACADIA</td>\n",
       "      <td>2725</td>\n",
       "      <td>907</td>\n",
       "      <td>AP1HR</td>\n",
       "      <td>E</td>\n",
       "      <td>CLEAN</td>\n",
       "      <td>2026-03-01</td>\n",
       "      <td>2021-11-15</td>\n",
       "    </tr>\n",
       "  </tbody>\n",
       "</table>\n",
       "</div>"
      ],
      "text/plain": [
       "       DATE    AREA BUILDING ROOM ROOM TYPE GENDER STATUS LAST TENANCY END  \\\n",
       "0  1-1-2022  ACADIA     2725  301    AP1HRD      E  CLEAN       2027-02-01   \n",
       "1  1-1-2022  ACADIA     2725  502    AP1HRD      E  CLEAN       2027-02-01   \n",
       "2  1-1-2022  ACADIA     2725  605    AP1HRD      E  CLEAN       2027-10-01   \n",
       "3  1-1-2022  ACADIA     2725  707     AP1HR      E  CLEAN       2026-10-01   \n",
       "4  1-1-2022  ACADIA     2725  907     AP1HR      E  CLEAN       2026-03-01   \n",
       "\n",
       "  LAST CHECKOUT   \n",
       "0     2020-10-19  \n",
       "1     2020-09-08  \n",
       "2     2021-08-30  \n",
       "3     2021-07-07  \n",
       "4     2021-11-15  "
      ]
     },
     "execution_count": 4,
     "metadata": {},
     "output_type": "execute_result"
    }
   ],
   "source": [
    "df.head()"
   ]
  },
  {
   "cell_type": "code",
   "execution_count": 5,
   "id": "2621217f-cced-4104-93e8-f1fa1ecf276c",
   "metadata": {},
   "outputs": [
    {
     "name": "stdout",
     "output_type": "stream",
     "text": [
      "<class 'pandas.core.frame.DataFrame'>\n",
      "RangeIndex: 718674 entries, 0 to 718673\n",
      "Data columns (total 9 columns):\n",
      " #   Column            Non-Null Count   Dtype         \n",
      "---  ------            --------------   -----         \n",
      " 0   DATE              718674 non-null  object        \n",
      " 1   AREA              718674 non-null  object        \n",
      " 2   BUILDING          718674 non-null  object        \n",
      " 3   ROOM              718674 non-null  object        \n",
      " 4   ROOM TYPE         718674 non-null  object        \n",
      " 5   GENDER            718674 non-null  object        \n",
      " 6   STATUS            718674 non-null  object        \n",
      " 7   LAST TENANCY END  718674 non-null  datetime64[ns]\n",
      " 8   LAST CHECKOUT     144135 non-null  datetime64[ns]\n",
      "dtypes: datetime64[ns](2), object(7)\n",
      "memory usage: 49.3+ MB\n"
     ]
    }
   ],
   "source": [
    "df.info()"
   ]
  }
 ],
 "metadata": {
  "kernelspec": {
   "display_name": "Python 3 (ipykernel)",
   "language": "python",
   "name": "python3"
  },
  "language_info": {
   "codemirror_mode": {
    "name": "ipython",
    "version": 3
   },
   "file_extension": ".py",
   "mimetype": "text/x-python",
   "name": "python",
   "nbconvert_exporter": "python",
   "pygments_lexer": "ipython3",
   "version": "3.12.3"
  }
 },
 "nbformat": 4,
 "nbformat_minor": 5
}
